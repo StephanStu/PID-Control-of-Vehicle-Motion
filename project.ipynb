{
 "cells": [
  {
   "cell_type": "markdown",
   "metadata": {},
   "source": [
    "# Udacity's Self-Driving Car Engineer Nanodegree: PID-Controller Project\n",
    "This notebook accompanies Stephan Studener's solution to the PID-Controller project in Udacity's Self-Driving Car Engineer Nanodegree in January 2020. In this project, the goal is to implement a PID-Controller that controls the lateral dynamics of a car in a simulated environment. This notebook supports rapid tuning of the control parameters by applying closed loop simulation of a lane change to a low-order approximation of the full vehicle. "
   ]
  },
  {
   "cell_type": "code",
   "execution_count": 25,
   "metadata": {},
   "outputs": [],
   "source": [
    "import numpy as np\n",
    "import matplotlib.pyplot as plt"
   ]
  },
  {
   "cell_type": "markdown",
   "metadata": {},
   "source": [
    "## The kinematic bicycle model and numerical integration of the dynamical system\n",
    "Francesco Borrelli et al. studied different kinematic and dynamic vehicle models for autonomous driving control design. The following picture is taken from their work https://borrelli.me.berkeley.edu/pdfpub/IV_KinematicMPC_jason.pdf. \n",
    "\n",
    "![Sketch of the bicycle model](sketch_bicycle_model.JPG)\n",
    "\n",
    "The figure displays the kinematics of the vehicle model known as the \"Bicycle\"-Model. The following equations of motion hold for the positions (x and y), the heading angle (theta), the steering angle (rho) and the angle between the longitudinal axis of the vehcile and the velocity v of the center of mass (beta):\n",
    "\n",
    "![Sketch of the bicycle model](equations_bicycle_model.JPG)\n",
    "\n",
    "The following class implements the equations of motion together with an numerical integrator (1st-order or \"Forward-Euler\") that solves the differential equations over a given set of n timesteps of equal duration dt. The steering angle is taken to be the control input u and is assumed to be constant over the period of integration n times dt."
   ]
  },
  {
   "cell_type": "code",
   "execution_count": 30,
   "metadata": {},
   "outputs": [],
   "source": [
    "class Bicycle:\n",
    "    def __init__(self, l_r = 1.738, l_f = 1.105, v_l = 0.0, x0=np.array([1.0,1.0,0.0])):\n",
    "        \"\"\"\n",
    "        This is the constructor with processes the following parameters: \n",
    "        l_r, parameter, distance from COG\n",
    "        l_f, parameter, distance from COG\n",
    "        v_l, longitudinal velocity, in direction of vehicle main axis\n",
    "        x0, initial state, position and heading of vehicle = [px py theta]\n",
    "        \"\"\"\n",
    "        self.l_r = l_r # parameter, distance from COG\n",
    "        self.l_f = l_f # parameter, distance from COG\n",
    "        self.v_l = v_l # longitudinal velocity, in direction of longitudinal axis of the vehicle\n",
    "        self.x = x0 # initial state, position and heading of vehicle = [px py theta]\n",
    "        self.dt = 0.01 # time step for numerical integration\n",
    "        self.u = 0 # steering ange\n",
    "    \n",
    "    def __beta(self):\n",
    "        \"\"\"\n",
    "        Angle of current velocity of COG w.r.t. the longitudinal axis of the vehicle / w.r.t. v_l.\n",
    "        The angle is constrained to [-25° 25°]!\n",
    "        \"\"\"\n",
    "        if self.u > 25 * np.pi/180:\n",
    "            self.u = 25 * np.pi/180\n",
    "        \n",
    "        if self.u < -25 * np.pi/180:\n",
    "            self.u = -25 * np.pi / 180\n",
    "        \n",
    "        return np.arctan((self.l_r / (self.l_r + self.l_f)) * np.tan(self.u)) \n",
    "        \n",
    "    def __dot_px(self):\n",
    "        \"\"\"\n",
    "        Equations of motion of kinematic bike model for dot(px).    \n",
    "        \"\"\"\n",
    "        beta = self.__beta()\n",
    "        v = self.v_l / np.cos(beta) # current velocity of COG w.r.t. the longitudinal axis of the vehicle\n",
    "        theta = self.x[2]\n",
    "        return v * np.cos(theta + beta)\n",
    "    \n",
    "    def __dot_py(self):\n",
    "        \"\"\"\n",
    "        Equations of motion of kinematic bike model for dot(py).        \n",
    "        \"\"\"\n",
    "        beta = self.__beta()\n",
    "        v = self.v_l / np.cos(beta) # current velocity of COG w.r.t. the longitudinal axis of the vehicle\n",
    "        theta = self.x[2]\n",
    "        return v * np.sin(theta + beta)\n",
    "    \n",
    "    def __dot_theta(self):\n",
    "        \"\"\"\n",
    "        Equations of motion for heading theta.\n",
    "        \"\"\"\n",
    "        beta = self.__beta()\n",
    "        v = self.v_l / np.cos(beta) # current velocity of COG w.r.t. the longitudinal axis of the vehicle\n",
    "        return v / self.l_r * np.sin(beta)\n",
    "        \n",
    "    \n",
    "    def integrate(self, n = 1):\n",
    "        \"\"\"\n",
    "        Integrates equations of motion over dt and updates the state vector x with processes the following parameters:\n",
    "        n, the number of integration steps that are suppsed to be taken; note: u is constant over n * dt!\n",
    "        \"\"\"\n",
    "        k = 0\n",
    "        while k < n:\n",
    "            dpx = self.__dot_px() * self.dt\n",
    "            dpy = self.__dot_py() * self.dt\n",
    "            dtheta = self.__dot_theta() * self.dt\n",
    "            self.x = self.x + np.array([dpx,dpy,dtheta])\n",
    "            k+=1"
   ]
  },
  {
   "cell_type": "markdown",
   "metadata": {},
   "source": [
    "## Simulating a lane change with the bicycle model\n",
    "\n",
    "The following helper function defines a reference trajectory for the y-coordinate. It represents a steep lane change excited at t = 10.0s."
   ]
  },
  {
   "cell_type": "code",
   "execution_count": 31,
   "metadata": {},
   "outputs": [],
   "source": [
    "def reference(t, mag = 3.0):\n",
    "    \"\"\"\n",
    "    This function returns the reference trajectory; it accepts the following parameter:\n",
    "    mag, the magnitude ot he lane change, default is 3.0 m.\n",
    "    \"\"\"\n",
    "    if t < 10:\n",
    "        r = 0\n",
    "    else:\n",
    "        r = mag * ((3/2) * np.exp(-2.5*(t-10)) - (1/2) * np.exp(-4.0*(t-10))) - mag\n",
    "    \n",
    "    return r"
   ]
  },
  {
   "cell_type": "markdown",
   "metadata": {},
   "source": [
    "The following helper function wraps up numerical integration and control law implementation for the parameter optimization."
   ]
  },
  {
   "cell_type": "code",
   "execution_count": 32,
   "metadata": {},
   "outputs": [],
   "source": [
    "def run_closed_loop_simulation(vehicle, parameters, n=1000):\n",
    "    \"\"\"\n",
    "    This function implements a run of the cloed loop system and returns the resulting x- and y-trajectories\n",
    "    exicetd by the vehicle.\n",
    "    It accepts the following parameters:\n",
    "    vehicle, an instance of a bicylce model of the vehicle.\n",
    "    parameters, the vector of parameters kp, kd and ki for the PID-Control-Law (in THAT order!).\n",
    "    n, the number of integration steps\n",
    "    \"\"\"\n",
    "    x = []\n",
    "    y = []\n",
    "    u = []\n",
    "    t = []\n",
    "    r = []\n",
    "    x.append(vehicle.x[0])\n",
    "    y.append(vehicle.x[1])\n",
    "    u.append(vehicle.u)\n",
    "    t.append(0.0)\n",
    "    r.append(reference(0))\n",
    "    kp = parameters[0]\n",
    "    kd = parameters[1]\n",
    "    ki = parameters[2]\n",
    "    integrated_error = 0.0\n",
    "    error = 0.0\n",
    "    objective = 0.0\n",
    "    for i in range(n-1):\n",
    "        difference_error = reference(i * vehicle.dt) - vehicle.x[1] - error\n",
    "        error = reference((i+1) * vehicle.dt) - vehicle.x[1]\n",
    "        integrated_error = integrated_error + error\n",
    "        vehicle.u = kp * error + kd * difference_error + ki * integrated_error\n",
    "        vehicle.integrate()\n",
    "        x.append(vehicle.x[0])\n",
    "        y.append(vehicle.x[1])\n",
    "        u.append(vehicle.u*180/np.pi)\n",
    "        t.append((i+1) * vehicle.dt)\n",
    "        r.append(reference(i * vehicle.dt))\n",
    "        objective += error ** 2\n",
    "        \n",
    "    return x, y, u, r, t, objective / n"
   ]
  },
  {
   "cell_type": "markdown",
   "metadata": {},
   "source": [
    "Now we use the dynamical model to study the performance of a PID-Control-law.\n",
    "An instance of the bicycle is created with initial location (x0) and longitudinal velocity (not equal to the resulting velocity of the center of mass!). The task of the controller is to make the vehicle follow a reference trajectory as close as possible. The reference is given by the function reference defined in the cell above. The reference trajectory represents a sharp lane change at t = 10. \n",
    "In the following, an initial guess of PID-parameters is applied to an instance of the bicycle model that represents a Hyundai Azera (total wheel- base of 2.843 m, lf =1.105 m and lr = 1.738 m). The initial guess is wrapped up in the parameters array below.\n",
    "\n",
    "Initially, the controller parameters below have been choosen intuitively, starting with integral gain set to zero and small proportional gain of 0.1. Within a few simulation runs, it was discovered, that increasing the differenital gain helps the controller to settle much smoother. Attention was paid to not exceed the steering angle limits of [-25° 25°]. Moreover, the gains are kept small to allow for model uncertainty (parameters of the model may not reflect the properties of the car in the simulator) in the simulator later in this work."
   ]
  },
  {
   "cell_type": "code",
   "execution_count": 94,
   "metadata": {
    "scrolled": true
   },
   "outputs": [
    {
     "data": {
      "image/png": "[encoded data removed]",
      "text/plain": [
       "<Figure size 1296x360 with 3 Axes>"
      ]
     },
     "metadata": {
      "needs_background": "light"
     },
     "output_type": "display_data"
    }
   ],
   "source": [
    "# create an instance of the bicycle model with vehicle paramters, initial position and heading\n",
    "vehicle = Bicycle(v_l = 40 * 1000 / 3600, x0 = np.array([1.0,1.0, 0*np.pi/2]))\n",
    "# set initial steering\n",
    "vehicle.u = 0 * np.pi/ 180\n",
    "# initial guess for kp, kd and ki\n",
    "parameters = [0.12, 1.1, 0.000]\n",
    "# run a simulation\n",
    "x, y, u, r, t, objective = run_closed_loop_simulation(vehicle, parameters, n=10000)\n",
    "# plot results and check\n",
    "fig, (ax0, ax1, ax2) = plt.subplots(1, 3, figsize=(18,5))\n",
    "fig.subplots_adjust(hspace=10.0)\n",
    "fig.suptitle('Position versus reference (left), vehicle position in x-y-plane (center) & steering angle (right). Actual values in red, desired values in black.')\n",
    "ax0.plot(t, y, 'ro')\n",
    "ax0.plot(t, r, 'k.')\n",
    "ax0.set_xlim(-1, 20)\n",
    "ax0.set_xlabel('t [s]')\n",
    "ax0.set_ylabel('r [m], y [m]')\n",
    "ax0.grid(True)\n",
    "ax1.plot(x, y, 'ro')\n",
    "ax1.set_xlim(-1, 250)\n",
    "ax1.set_xlabel('x [m]')\n",
    "ax1.set_ylabel('y [m]')\n",
    "ax1.grid(True)\n",
    "ax2.plot(t, u, 'ro')\n",
    "ax2.set_xlim(-1, 20)\n",
    "ax2.set_xlabel('t [s]')\n",
    "ax2.set_ylabel('u [°]')\n",
    "ax2.grid(True)"
   ]
  },
  {
   "cell_type": "markdown",
   "metadata": {},
   "source": [
    "\n",
    "For the set of controller paramters above, what can observed above is\n",
    "- error dynamics are stable\n",
    "- the controller output is within the limits [-25° 25°] that are for steering\n",
    "Hence, these seem a good initial guess for the simulator as well. Before, an attempt is made to optimize them further using \"twiddle\".\n",
    "\n",
    "## Numerical PID-Controller-Optimization\n",
    "It can be cumbersome to tune the parameters of the PID-Control law manually. Hence, the \"twiddle\"-algorithm presented by Sebastian Thrun in Udacity's Self-Driving Car-Engineer Nanodegree Programm is invoked to find the opitmal set of parameters."
   ]
  },
  {
   "cell_type": "code",
   "execution_count": 95,
   "metadata": {},
   "outputs": [],
   "source": [
    "def twiddle(tol=0.1): \n",
    "    \"\"\"\n",
    "    This function implements the \"twiddle\"-algorithm presented by \n",
    "    Sebastian Thrun in Udacity's Self-Driving Car-Engineer Nanodegree Programm.\n",
    "    It accepts the following parameter:\n",
    "    tol, the tolerance with default value equal to 0.2.    \n",
    "    \"\"\"\n",
    "    # limit number of iterations\n",
    "    it_max = 50\n",
    "    # initial guess for PID-parameters\n",
    "    p = [0.12, 1.1, 0.000]\n",
    "    # step-size for PID-Parameters\n",
    "    dp = [0.1, 0.1, 0.0]\n",
    "    # create an instance of the bicycle model with vehicle paramters, initial position and heading\n",
    "    vehicle = Bicycle(v_l = 50 * 1000 / 3600, x0 = np.array([1.0,1.0, 0*np.pi/2]))\n",
    "    # set initial steering\n",
    "    vehicle.u = 0 * np.pi/ 180\n",
    "    # run initial simulation\n",
    "    x_trajectory, y_trajectory, u_trajectory, r_trajectory, t, best_err = run_closed_loop_simulation(vehicle, p, n=10000)\n",
    "    it = 0\n",
    "    print(\"Iteration | Objective obtained@parameter vector \")\n",
    "    while (sum(dp) > tol):\n",
    "        print(\" {}        |  {} @ {}\".format(it, best_err, p))\n",
    "        for i in range(len(p)):\n",
    "            p[i] += dp[i]\n",
    "            # create an instance of the bicycle model with vehicle paramters, initial position and heading\n",
    "            vehicle = Bicycle(v_l = 50 * 1000 / 3600, x0 = np.array([1.0,1.0, 0*np.pi/2]))\n",
    "            # set initial steering\n",
    "            vehicle.u = 0 * np.pi/ 180\n",
    "            # run simulation\n",
    "            x_trajectory, y_trajectory, u_trajectory, r_trajectory, t, err = run_closed_loop_simulation(vehicle, p, n=10000)\n",
    "            if err < best_err:\n",
    "                best_err = err\n",
    "                dp[i] *= 1.1\n",
    "            else:\n",
    "                p[i] -= 2 * dp[i]\n",
    "                # create an instance of the bicycle model with vehicle paramters, initial position and heading\n",
    "                vehicle = Bicycle(v_l = 50 * 1000 / 3600, x0 = np.array([1.0,1.0, 0*np.pi/2]))\n",
    "                # set initial steering\n",
    "                vehicle.u = 0 * np.pi/ 180\n",
    "                # run simulation\n",
    "                x_trajectory, y_trajectory, u_trajectory, r_trajectory, t, err = run_closed_loop_simulation(vehicle, p, n=10000)\n",
    "                if err < best_err:\n",
    "                    best_err = err\n",
    "                    dp[i] *= 1.1\n",
    "                else:\n",
    "                    p[i] += dp[i]\n",
    "                    dp[i] *= 0.9\n",
    "        it += 1\n",
    "        if it > it_max:\n",
    "            break\n",
    "    \n",
    "    print(\"Twiddle has finished & returns parameters {}.\".format(p))\n",
    "    return p"
   ]
  },
  {
   "cell_type": "markdown",
   "metadata": {},
   "source": [
    "Now we use \"twiddle\" to find an optimal set of parameters w.r.t. the lane change event and the bicylce-model instantiated with model parameters representing a Hyundai Azera (total wheel- base of 2.843 m, lf =1.105 m and lr = 1.738 m)."
   ]
  },
  {
   "cell_type": "code",
   "execution_count": 96,
   "metadata": {
    "scrolled": true
   },
   "outputs": [
    {
     "name": "stdout",
     "output_type": "stream",
     "text": [
      "Iteration | Objective obtained@parameter vector \n",
      " 0        |  0.012663778572031922 @ [0.12, 1.1, 0.0]\n",
      " 1        |  0.0061298121414264505 @ [0.22, 1.2000000000000002, 0.0]\n",
      " 2        |  0.003674313366783768 @ [0.33, 1.3100000000000003, 0.0]\n",
      " 3        |  0.0024824985512895315 @ [0.45100000000000007, 1.4310000000000003, 0.0]\n",
      " 4        |  0.0018202027030105872 @ [0.5841000000000001, 1.2979000000000003, 0.0]\n",
      " 5        |  0.0014497969243669735 @ [0.7305100000000001, 1.1514900000000001, 0.0]\n",
      " 6        |  0.0012213593882476341 @ [0.8915610000000002, 0.9904390000000001, 0.0]\n",
      " 7        |  0.0010714654216262042 @ [1.0687171000000002, 0.8132829000000001, 0.0]\n",
      " 8        |  0.000969385326205372 @ [1.2635888100000003, 0.6184111900000001, 0.0]\n",
      " 9        |  0.0008979480730898347 @ [1.4779476910000005, 0.404052309, 0.0]\n",
      " 10        |  0.0008469530834936954 @ [1.7137424601000006, 0.1682575398999998, 0.0]\n",
      " 11        |  0.000809933342637027 @ [1.9731167061100008, -0.09111670611000033, 0.0]\n",
      " 12        |  0.0007828956652248002 @ [2.258428376721001, -0.3764283767210005, 0.0]\n",
      " 13        |  0.0007627322181141725 @ [2.5722712143931012, -0.3764283767210005, 0.0]\n",
      " 14        |  0.000747819599800651 @ [2.9174983358324114, -0.09396982281611033, 0.0]\n",
      " 15        |  0.0007369103692780019 @ [3.297248169415653, -0.09396982281611033, 0.0]\n",
      " 16        |  0.0007287745306540656 @ [3.714972986357218, 0.18566414554973093, 0.0]\n",
      " 17        |  0.0007225895881784263 @ [4.17447028499294, 0.49326151075215635, 0.0]\n",
      " 18        |  0.0007177627270873504 @ [4.6799173134922345, 0.8316186124748244, 0.0]\n",
      " 19        |  0.0007141122995992732 @ [5.235909044841458, 1.2038114243697593, 0.0]\n",
      " 20        |  0.0007111999308313031 @ [5.847499949325604, 1.2038114243697593, 0.0]\n",
      " 21        |  0.0007086558116316066 @ [6.520249944258165, 1.5722823081457449, 0.0]\n",
      " 22        |  0.0007067774071655614 @ [7.260274938683982, 1.9776002802993289, 0.0]\n",
      " 23        |  0.0007051403036863435 @ [8.074302432552381, 1.977600280299329, 0.0]\n",
      " 24        |  0.0007040392663672158 @ [8.96973267580762, 2.3788650727313776, 0.0]\n",
      " 25        |  0.0007032789548040429 @ [9.954705943388383, 2.3788650727313776, 0.0]\n",
      " 26        |  0.0007026534533622569 @ [11.038176537727223, 2.7761172172391055, 0.0]\n",
      " 27        |  0.0007021777678719837 @ [12.229994191499946, 3.2130945761976064, 0.0]\n",
      " 28        |  0.0007017973733220091 @ [13.540993610649942, 3.693769671051957, 0.0]\n",
      " 29        |  0.0007015406081468865 @ [14.983092971714937, 4.222512275391743, 0.0]\n",
      " 30        |  0.0007015406081468865 @ [14.983092971714937, 4.222512275391744, 0.0]\n",
      " 31        |  0.0007015406081468865 @ [14.983092971714939, 4.222512275391745, 0.0]\n",
      " 32        |  0.0007015406081468865 @ [14.983092971714939, 4.222512275391744, 0.0]\n",
      " 33        |  0.0007015406081468865 @ [14.98309297171494, 4.222512275391744, 0.0]\n",
      " 34        |  0.0007013611996144724 @ [16.02387050158916, 4.222512275391743, 0.0]\n",
      " 35        |  0.0007013611996144724 @ [16.02387050158916, 4.222512275391742, 0.0]\n",
      " 36        |  0.0007013611996144724 @ [16.023870501589155, 4.222512275391742, 0.0]\n",
      " 37        |  0.0007013611996144724 @ [16.023870501589155, 4.222512275391742, 0.0]\n",
      " 38        |  0.0007013611996144724 @ [16.023870501589155, 4.222512275391742, 0.0]\n",
      " 39        |  0.0007013611996144724 @ [16.023870501589155, 4.222512275391742, 0.0]\n",
      " 40        |  0.0007013611996144724 @ [16.023870501589155, 4.222512275391742, 0.0]\n",
      " 41        |  0.0007013611996144724 @ [16.02387050158915, 4.2225122753917415, 0.0]\n",
      " 42        |  0.0007013611996144724 @ [16.02387050158915, 4.2225122753917415, 0.0]\n",
      " 43        |  0.0007013611996144724 @ [16.02387050158915, 4.222512275391742, 0.0]\n",
      " 44        |  0.0007013611996144724 @ [16.02387050158915, 4.222512275391742, 0.0]\n",
      " 45        |  0.0007013611996144724 @ [16.023870501589155, 4.2225122753917415, 0.0]\n",
      " 46        |  0.0007013611996144724 @ [16.023870501589155, 4.222512275391742, 0.0]\n",
      " 47        |  0.0007013611996144724 @ [16.02387050158916, 4.222512275391743, 0.0]\n",
      " 48        |  0.0007013611996144724 @ [16.02387050158916, 4.222512275391744, 0.0]\n",
      " 49        |  0.0007013611996144724 @ [16.02387050158916, 4.222512275391745, 0.0]\n",
      " 50        |  0.0007013611996144724 @ [16.023870501589155, 4.222512275391745, 0.0]\n",
      "Twiddle has finished & returns parameters [16.023870501589155, 4.222512275391745, 0.0].\n"
     ]
    },
    {
     "data": {
      "image/png": "[encoded data removed]",
      "text/plain": [
       "<Figure size 1296x360 with 3 Axes>"
      ]
     },
     "metadata": {
      "needs_background": "light"
     },
     "output_type": "display_data"
    }
   ],
   "source": [
    "p = twiddle()\n",
    "# create an instance of the bicycle model with vehicle paramters, initial position and heading\n",
    "vehicle = Bicycle(v_l = 50 * 1000 / 3600, x0 = np.array([1.0,1.0, 0*np.pi/2]))\n",
    "# set initial steering\n",
    "vehicle.u = 0 * np.pi/ 180\n",
    "# run simulation with optimal parameters\n",
    "x, y, u, r, t, objective = run_closed_loop_simulation(vehicle, p, n=10000)\n",
    "# plot results and check\n",
    "fig, (ax0, ax1, ax2) = plt.subplots(1, 3, figsize=(18,5))\n",
    "fig.subplots_adjust(hspace=10.0)\n",
    "fig.suptitle('Position versus reference (left), vehicle position in x-y-plane (center) & steering angle (right). Actual values in red, desired values in black.')\n",
    "ax0.plot(t, y, 'ro')\n",
    "ax0.plot(t, r, 'k.')\n",
    "ax0.set_xlim(-1, 20)\n",
    "ax0.set_xlabel('t [s]')\n",
    "ax0.set_ylabel('r [m], y [m]')\n",
    "ax0.grid(True)\n",
    "ax1.plot(x, y, 'ro')\n",
    "ax1.set_xlim(-1, 250)\n",
    "ax1.set_xlabel('x [m]')\n",
    "ax1.set_ylabel('y [m]')\n",
    "ax1.grid(True)\n",
    "ax2.plot(t, u, 'ro')\n",
    "ax2.set_xlim(-1, 20)\n",
    "ax2.set_xlabel('t [s]')\n",
    "ax2.set_ylabel('u [°]')\n",
    "ax2.grid(True)"
   ]
  },
  {
   "cell_type": "markdown",
   "metadata": {},
   "source": [
    "## Choice of controller parameters for the simulator\n",
    "\"twiddle\" iterates the controller into a \"large-gain\" / bang-bang controller that utilizes the full control input range. This make sense since time-optimal control requires to utilize the full control input. However, this causes oszillations when applied to the real system.\n",
    "Further optimization of the objective function inside \"twiddle\" is requested to favour softer control inputs.\n",
    "The default paramters [0.12, 1.10, 0.00] are applied in the simulation enviroment provided by Udacity. \n",
    "\n",
    "## The effect of the P, I, D,-parameter components in the implementation.\n",
    "The proportional gain \"kp\" reacts to the error directly. If the intention is to speed up the closed loop response, one should increase the proprtional gain. \n",
    "\n",
    "The differential gain contributes to the control law, when the error decreases or increases; it gives the controller a sense of \"prediction\" what it must do to prevent overshooting.\n",
    "\n",
    "The integral gain reacts to persiting error caused by disturbances or parameter faults. If it is zero, a constant offset may remain in the error dynamics. Yet, care must be taken, when the to-be-controlled objects exhibts saturation in the control inputs: The controller may \"wind up\". Hence, in this project, the integral gain has been chosen to be euqal to zero.\n",
    "\n",
    "## Concluding remarks\n",
    "The controller tuning method presented here suffers from two issues:\n",
    "- model uncertainty: The parameters l_r and l_f must be adjusted in order to represent Udacity's car better\n",
    "- input saturation is not taken into account by \"twiddle\"\n",
    "- large accelerations is not taken into account by \"twiddle\"\n",
    "\n",
    "These points make it hard to pre-compute optimal control parameters using the model presented here. In the end, the inital guess [0.12, 1.10, 0.00] is used and found to be quite satisfying in the simulator. To further improve auto-tuning by twiddle a more elaborate objective function must be derived that penalizes jerks in vehicle motion and favours softer motion."
   ]
  },
  {
   "cell_type": "code",
   "execution_count": null,
   "metadata": {},
   "outputs": [],
   "source": []
  }
 ],
 "metadata": {
  "kernelspec": {
   "display_name": "Python 3",
   "language": "python",
   "name": "python3"
  },
  "language_info": {
   "codemirror_mode": {
    "name": "ipython",
    "version": 3
   },
   "file_extension": ".py",
   "mimetype": "text/x-python",
   "name": "python",
   "nbconvert_exporter": "python",
   "pygments_lexer": "ipython3",
   "version": "3.7.4"
  }
 },
 "nbformat": 4,
 "nbformat_minor": 2
}
